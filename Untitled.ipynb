{
 "cells": [
  {
   "cell_type": "code",
   "execution_count": 1,
   "id": "eac1543b",
   "metadata": {},
   "outputs": [
    {
     "ename": "SyntaxError",
     "evalue": "invalid syntax (2558096614.py, line 17)",
     "output_type": "error",
     "traceback": [
      "\u001b[1;36m  Input \u001b[1;32mIn [1]\u001b[1;36m\u001b[0m\n\u001b[1;33m    if dia == 4 or dia == 8\u001b[0m\n\u001b[1;37m                           ^\u001b[0m\n\u001b[1;31mSyntaxError\u001b[0m\u001b[1;31m:\u001b[0m invalid syntax\n"
     ]
    }
   ],
   "source": [
    "\"\"\"\n",
    "Tarea:\n",
    "Iterar sobre una lista de fechas:\n",
    "Pero no cualquier fecha.\n",
    "Fechas en japonés\n",
    "\"\"\"\n",
    "dias = range(1,32) # esto va a ser un listado de integers (del 1 al 31)\n",
    "meses = range(1,13) #esto va a ser un listado de integers (del 1 al 12)\n",
    "\n",
    "\n",
    "# implementar un listado de fechas en japonés\n",
    "# utilizando dias y meses\n",
    "kanji_gatsu = \" 月 \"\n",
    "kanji_nichi = \" 日 \"\n",
    "for mes in meses:\n",
    "    for dia in dias:\n",
    "        print(str(mes) + kanji_gatsu + str(dia) + kanji_nichi)\n",
    "        \n",
    "\n",
    "\n",
    "# bonus:\n",
    "# si los dias en japones ocupan una y en su nombre real (yokka)\n",
    "# concatenar el string \"yyyyy\"\n",
    "# ejemplo:\n",
    "# 1 gatsu 4 nichi yyyyy"
   ]
  },
  {
   "cell_type": "code",
   "execution_count": 1,
   "id": "fe888ed7",
   "metadata": {
    "scrolled": true
   },
   "outputs": [
    {
     "name": "stdout",
     "output_type": "stream",
     "text": [
      "Introduzca su edad: 31\n",
      "El usuario cumplió 1 año\n",
      "El usuario cumplió 2 años\n",
      "El usuario cumplió 3 años\n",
      "El usuario cumplió 4 años\n",
      "El usuario cumplió 5 años\n",
      "El usuario cumplió 6 años\n",
      "El usuario cumplió 7 años\n",
      "El usuario cumplió 8 años\n",
      "El usuario cumplió 9 años\n",
      "El usuario cumplió 10 años\n",
      "El usuario cumplió 11 años\n",
      "El usuario cumplió 12 años\n",
      "El usuario cumplió 13 años\n",
      "El usuario cumplió 14 años\n",
      "El usuario cumplió 15 años\n",
      "El usuario cumplió 16 años\n",
      "El usuario cumplió 17 años\n",
      "El usuario cumplió 18 años\n",
      "El usuario cumplió 19 años\n",
      "El usuario cumplió 20 años\n",
      "El usuario cumplió 21 años\n",
      "El usuario cumplió 22 años\n",
      "El usuario cumplió 23 años\n",
      "El usuario cumplió 24 años\n",
      "El usuario cumplió 25 años\n",
      "El usuario cumplió 26 años\n",
      "El usuario cumplió 27 años\n",
      "El usuario cumplió 28 años\n",
      "El usuario cumplió 29 años\n",
      "El usuario cumplió 30 años\n",
      "El usuario cumplió 31 años\n"
     ]
    }
   ],
   "source": [
    "edad = input(\"Introduzca su edad: \")\n",
    "int_edad = int(edad) \n",
    "cant_años = range(1,int_edad+1)\n",
    "\n",
    "for año in cant_años:\n",
    "    if año == 1:\n",
    "        print (f\"El usuario cumplió 1 año\") \n",
    "    else: \n",
    "        print(f\"El usuario cumplió {año} años\")\n"
   ]
  },
  {
   "cell_type": "code",
   "execution_count": null,
   "id": "65f51e7d",
   "metadata": {},
   "outputs": [],
   "source": [
    "numero = input(\"Introduzca un número: \")\n",
    "int_numero = int(numero) \n",
    "asteriscos = range(1,int_numero+1)\n",
    "\n",
    "for asterisco in asteriscos:\n",
    "    if asterisco == 1:\n",
    "        print (\"*\") \n",
    "    else:\n",
    "        print (f\"*\" * )\n",
    "        \n",
    "        \n",
    "   "
   ]
  },
  {
   "cell_type": "code",
   "execution_count": 8,
   "id": "341aa69e",
   "metadata": {},
   "outputs": [
    {
     "name": "stdout",
     "output_type": "stream",
     "text": [
      "Introduzca un número: 5\n",
      "*\n",
      "**\n",
      "***\n",
      "****\n",
      "*****\n"
     ]
    }
   ],
   "source": [
    "numero = input(\"Introduzca un número: \")\n",
    "int_numero = int(numero) \n",
    "asteriscos = range(2,int_numero+1)\n",
    "\n",
    "cadena = \"*\"\n",
    "\n",
    "print(cadena)\n",
    "for asterisco in asteriscos:\n",
    "    \n",
    "    cadena = cadena + \"*\"\n",
    "    print(cadena)"
   ]
  },
  {
   "cell_type": "code",
   "execution_count": 9,
   "id": "990d5444",
   "metadata": {},
   "outputs": [
    {
     "name": "stdout",
     "output_type": "stream",
     "text": [
      "Introduzca un número: 5\n",
      "*\n",
      "**\n",
      "***\n",
      "****\n",
      "*****\n"
     ]
    }
   ],
   "source": [
    "numero = input(\"Introduzca un número: \")\n",
    "int_numero = int(numero) \n",
    "asteriscos = range(1,int_numero+1)\n",
    "\n",
    "for asterisco in asteriscos:\n",
    "    print(\"*\" * asterisco)"
   ]
  },
  {
   "cell_type": "code",
   "execution_count": 1,
   "id": "6cc9b140",
   "metadata": {},
   "outputs": [
    {
     "name": "stdout",
     "output_type": "stream",
     "text": [
      "Escriba una frase: tres tristes tigres\n",
      "Escriba una letra : t\n",
      "Esta letra aparece 4 veces\n"
     ]
    }
   ],
   "source": [
    "#Escribir un programa en el que se pregunte al usuario por una frase y una letra, y muestre por pantalla el número de veces que aparece la letra en la frase.\n",
    "\n",
    "frase = input(\"Escriba una frase: \")\n",
    "\n",
    "letra = input(\"Escriba una letra : \")\n",
    "veces_letra = frase.count(letra)\n",
    "\n",
    "if veces_letra == 1:\n",
    "    print(f\"Esta letra aparece 1 vez\")\n",
    "\n",
    "elif veces_letra != 1: \n",
    "    print(f\"Esta letra aparece {veces_letra} veces\")\n",
    "    \n",
    "       \n",
    "else:\n",
    "    print(\"Esta letra no aparece en la frase\")\n",
    "    \n",
    "\n",
    "\n"
   ]
  },
  {
   "cell_type": "code",
   "execution_count": 9,
   "id": "214a68d7",
   "metadata": {},
   "outputs": [],
   "source": [
    "mesaje = \"Juan es chido\"\n",
    "\n"
   ]
  },
  {
   "cell_type": "code",
   "execution_count": 5,
   "id": "f22647ac",
   "metadata": {},
   "outputs": [
    {
     "data": {
      "text/plain": [
       "2"
      ]
     },
     "execution_count": 5,
     "metadata": {},
     "output_type": "execute_result"
    }
   ],
   "source": []
  },
  {
   "cell_type": "code",
   "execution_count": 8,
   "id": "ea1f56ba",
   "metadata": {},
   "outputs": [],
   "source": [
    "\n"
   ]
  },
  {
   "cell_type": "code",
   "execution_count": 13,
   "id": "6da9fc0f",
   "metadata": {},
   "outputs": [
    {
     "name": "stdout",
     "output_type": "stream",
     "text": [
      "17\n",
      "3.2\n",
      "¡Hola todo el mundo!\n"
     ]
    },
    {
     "data": {
      "text/plain": [
       "2"
      ]
     },
     "execution_count": 13,
     "metadata": {},
     "output_type": "execute_result"
    }
   ],
   "source": []
  },
  {
   "cell_type": "code",
   "execution_count": 16,
   "id": "14d9077c",
   "metadata": {},
   "outputs": [
    {
     "ename": "TypeError",
     "evalue": "'n' is an invalid keyword argument for print()",
     "output_type": "error",
     "traceback": [
      "\u001b[1;31m---------------------------------------------------------------------------\u001b[0m",
      "\u001b[1;31mTypeError\u001b[0m                                 Traceback (most recent call last)",
      "Input \u001b[1;32mIn [16]\u001b[0m, in \u001b[0;36m<cell line: 1>\u001b[1;34m()\u001b[0m\n\u001b[1;32m----> 1\u001b[0m \u001b[38;5;28;43mprint\u001b[39;49m\u001b[43m \u001b[49m\u001b[43m(\u001b[49m\u001b[43mn\u001b[49m\u001b[43m \u001b[49m\u001b[38;5;241;43m=\u001b[39;49m\u001b[43m \u001b[49m\u001b[38;5;241;43m7\u001b[39;49m\u001b[43m)\u001b[49m\n",
      "\u001b[1;31mTypeError\u001b[0m: 'n' is an invalid keyword argument for print()"
     ]
    }
   ],
   "source": []
  },
  {
   "cell_type": "code",
   "execution_count": 18,
   "id": "95dbeffc",
   "metadata": {},
   "outputs": [
    {
     "name": "stdout",
     "output_type": "stream",
     "text": [
      "12\n"
     ]
    }
   ],
   "source": [
    "print (7 + 5)"
   ]
  },
  {
   "cell_type": "code",
   "execution_count": 20,
   "id": "60c1d8c8",
   "metadata": {},
   "outputs": [
    {
     "name": "stdout",
     "output_type": "stream",
     "text": [
      "5.2 esto 2 aquello 2.5\n"
     ]
    }
   ],
   "source": [
    "print(5.2, \"esto\", 4 - 2, \"aquello\", 5/2.0)"
   ]
  },
  {
   "cell_type": "code",
   "execution_count": 23,
   "id": "b749a1c3",
   "metadata": {},
   "outputs": [
    {
     "name": "stdout",
     "output_type": "stream",
     "text": [
      "Solo trabajo y nada de juegos hacen de Juan un niño aburrido \n"
     ]
    }
   ],
   "source": [
    "pal_1 = \"Solo \" \n",
    "pal_2 = \"trabajo \"\n",
    "pal_3 = \"y \" \n",
    "pal_4 = \"nada \"\n",
    "pal_5 = \"de \"\n",
    "pal_6 = \"juegos \"\n",
    "pal_7 = \"hacen \"\n",
    "pal_8 = \"de \"\n",
    "pal_9 = \"Juan \"\n",
    "pal_10 = \"un \" \n",
    "pal_11 = \"niño \"\n",
    "pal_12 = \"aburrido \"\n",
    "\n",
    "print(pal_1  + pal_2 + pal_3 +pal_4 + pal_5 + pal_6 +pal_7 + pal_8 + pal_9 +pal_10 + pal_11 + pal_12)"
   ]
  },
  {
   "cell_type": "code",
   "execution_count": 24,
   "id": "944ad0a6",
   "metadata": {
    "scrolled": false
   },
   "outputs": [
    {
     "data": {
      "text/plain": [
       "-6"
      ]
     },
     "execution_count": 24,
     "metadata": {},
     "output_type": "execute_result"
    }
   ],
   "source": [
    " 6 * (1 - 2 )"
   ]
  },
  {
   "cell_type": "code",
   "execution_count": 3,
   "id": "0bf08690",
   "metadata": {},
   "outputs": [
    {
     "name": "stdout",
     "output_type": "stream",
     "text": [
      "4\n"
     ]
    }
   ],
   "source": [
    "print (4)"
   ]
  },
  {
   "cell_type": "code",
   "execution_count": 6,
   "id": "30b58f79",
   "metadata": {},
   "outputs": [
    {
     "name": "stdout",
     "output_type": "stream",
     "text": [
      "pan de nuez y plátano\n"
     ]
    }
   ],
   "source": [
    "bien_cocinado = \"pan de nuez y \"\n",
    "fruta = \"plátano\"\n",
    "print (bien_cocinado + fruta)"
   ]
  },
  {
   "cell_type": "code",
   "execution_count": 10,
   "id": "f076ceb1",
   "metadata": {},
   "outputs": [
    {
     "name": "stdout",
     "output_type": "stream",
     "text": [
      "Número de minutos desde medianoche:  720\n"
     ]
    }
   ],
   "source": [
    "print (\"Número de minutos desde medianoche: \", 12 * 60)"
   ]
  },
  {
   "cell_type": "code",
   "execution_count": 11,
   "id": "0b92dd8c",
   "metadata": {},
   "outputs": [],
   "source": [
    "def elimina_vocales(s):\n",
    "    vocales = \"aeiouAEIOU\"\n",
    "    s_sin_vocales = \"\"\n",
    "    for letra in s:\n",
    "        if letra not in vocales:\n",
    "            s_sin_vocales += letra\n",
    "    return s_sin_vocales"
   ]
  },
  {
   "cell_type": "code",
   "execution_count": 13,
   "id": "941cb02b",
   "metadata": {},
   "outputs": [
    {
     "name": "stdout",
     "output_type": "stream",
     "text": [
      "3\n"
     ]
    }
   ],
   "source": [
    "fruta = \"banana\"\n",
    "cuenta = 0\n",
    "for carac in fruta:\n",
    "    if carac == 'a':\n",
    "        cuenta += 1\n",
    "print (cuenta)"
   ]
  },
  {
   "cell_type": "code",
   "execution_count": 19,
   "id": "27357bbd",
   "metadata": {
    "scrolled": true
   },
   "outputs": [
    {
     "name": "stdout",
     "output_type": "stream",
     "text": [
      "Ingrese la nota obtenida en Matemáticas: 7\n",
      "Ingrese la nota obtenida en Física :6\n",
      "Ingrese la nota obtenida en Arte :5\n",
      "Ingrese la nota obtenida en Música :4\n",
      "Ingrese la nota obtenida en Lengua :3\n",
      "Usted ha obtenido un 7 en Matemáticas\n",
      "Usted ha obtenido un 6 en Física\n",
      "Usted ha obtenido un 5 en Arte\n",
      "Usted ha obtenido un 4 en Música\n",
      "Usted ha obtenido un 3 en Lengua\n"
     ]
    }
   ],
   "source": [
    "\n",
    "print(f\"Usted ha obtenido un{nota_asignaturas1}en Matemáticas\")\n",
    "            \n",
    "\n",
    "\n",
    "   \n"
   ]
  },
  {
   "cell_type": "code",
   "execution_count": 3,
   "id": "8c4fca9c",
   "metadata": {
    "scrolled": true
   },
   "outputs": [
    {
     "name": "stdout",
     "output_type": "stream",
     "text": [
      "1 * 1 = 1\n",
      "1 * 2 = 2\n",
      "1 * 3 = 3\n",
      "1 * 4 = 4\n",
      "1 * 5 = 5\n",
      "1 * 6 = 6\n",
      "1 * 7 = 7\n",
      "1 * 8 = 8\n",
      "1 * 9 = 9\n",
      "1 * 10 = 10\n",
      "2 * 1 = 2\n",
      "2 * 2 = 4\n",
      "2 * 3 = 6\n",
      "2 * 4 = 8\n",
      "2 * 5 = 10\n",
      "2 * 6 = 12\n",
      "2 * 7 = 14\n",
      "2 * 8 = 16\n",
      "2 * 9 = 18\n",
      "2 * 10 = 20\n",
      "3 * 1 = 3\n",
      "3 * 2 = 6\n",
      "3 * 3 = 9\n",
      "3 * 4 = 12\n",
      "3 * 5 = 15\n",
      "3 * 6 = 18\n",
      "3 * 7 = 21\n",
      "3 * 8 = 24\n",
      "3 * 9 = 27\n",
      "3 * 10 = 30\n",
      "4 * 1 = 4\n",
      "4 * 2 = 8\n",
      "4 * 3 = 12\n",
      "4 * 4 = 16\n",
      "4 * 5 = 20\n",
      "4 * 6 = 24\n",
      "4 * 7 = 28\n",
      "4 * 8 = 32\n",
      "4 * 9 = 36\n",
      "4 * 10 = 40\n",
      "5 * 1 = 5\n",
      "5 * 2 = 10\n",
      "5 * 3 = 15\n",
      "5 * 4 = 20\n",
      "5 * 5 = 25\n",
      "5 * 6 = 30\n",
      "5 * 7 = 35\n",
      "5 * 8 = 40\n",
      "5 * 9 = 45\n",
      "5 * 10 = 50\n",
      "6 * 1 = 6\n",
      "6 * 2 = 12\n",
      "6 * 3 = 18\n",
      "6 * 4 = 24\n",
      "6 * 5 = 30\n",
      "6 * 6 = 36\n",
      "6 * 7 = 42\n",
      "6 * 8 = 48\n",
      "6 * 9 = 54\n",
      "6 * 10 = 60\n",
      "7 * 1 = 7\n",
      "7 * 2 = 14\n",
      "7 * 3 = 21\n",
      "7 * 4 = 28\n",
      "7 * 5 = 35\n",
      "7 * 6 = 42\n",
      "7 * 7 = 49\n",
      "7 * 8 = 56\n",
      "7 * 9 = 63\n",
      "7 * 10 = 70\n",
      "8 * 1 = 8\n",
      "8 * 2 = 16\n",
      "8 * 3 = 24\n",
      "8 * 4 = 32\n",
      "8 * 5 = 40\n",
      "8 * 6 = 48\n",
      "8 * 7 = 56\n",
      "8 * 8 = 64\n",
      "8 * 9 = 72\n",
      "8 * 10 = 80\n",
      "9 * 1 = 9\n",
      "9 * 2 = 18\n",
      "9 * 3 = 27\n",
      "9 * 4 = 36\n",
      "9 * 5 = 45\n",
      "9 * 6 = 54\n",
      "9 * 7 = 63\n",
      "9 * 8 = 72\n",
      "9 * 9 = 81\n",
      "9 * 10 = 90\n",
      "10 * 1 = 10\n",
      "10 * 2 = 20\n",
      "10 * 3 = 30\n",
      "10 * 4 = 40\n",
      "10 * 5 = 50\n",
      "10 * 6 = 60\n",
      "10 * 7 = 70\n",
      "10 * 8 = 80\n",
      "10 * 9 = 90\n",
      "10 * 10 = 100\n"
     ]
    }
   ],
   "source": [
    "\n",
    "for a in range(1,11):\n",
    "    for b in range(1,11):\n",
    "        print(a,\"*\",b,\"=\",a*b)\n",
    "        \n",
    "\n"
   ]
  },
  {
   "cell_type": "code",
   "execution_count": 25,
   "id": "7cdf2c76",
   "metadata": {},
   "outputs": [
    {
     "name": "stdout",
     "output_type": "stream",
     "text": [
      "Ingrese la nota obtenida en la asignatura de Matemáticas: 5.6\n",
      "Ingrese la nota obtenida en la asignatura de Física: 4.9\n",
      "Ingrese la nota obtenida en la asignatura de Arte: 6.8\n",
      "Ingrese la nota obtenida en la asignatura de Música: 4.3\n",
      "Ingrese la nota obtenida en la asignatura de Lengua: 6.9\n",
      "Usted ha obtenido un 5.6 en Matemáticas\n",
      "Usted ha obtenido un 4.9 en Física\n",
      "Usted ha obtenido un 6.8 en Arte\n",
      "Usted ha obtenido un 4.3 en Música\n",
      "Usted ha obtenido un 6.9 en Lengua\n"
     ]
    }
   ],
   "source": [
    "\n",
    "    \n",
    "asignaturas_1 = float(input(\"Ingrese la nota obtenida en la asignatura de Matemáticas: \"))\n",
    "asignaturas_2 = float(input(\"Ingrese la nota obtenida en la asignatura de Física: \"))\n",
    "asignaturas_3 = float(input(\"Ingrese la nota obtenida en la asignatura de Arte: \"))\n",
    "asignaturas_4 = float(input(\"Ingrese la nota obtenida en la asignatura de Música: \"))\n",
    "asignaturas_5 = float(input(\"Ingrese la nota obtenida en la asignatura de Lengua: \"))\n",
    "\n",
    "asignatura = [\"Matemáticas\", \"Física\", \"Arte\", \"Música\", \"Lengua\"]\n",
    "calificacion = [asignaturas_1,asignaturas_2,asignaturas_3,asignaturas_4,asignaturas_5]\n",
    "\n",
    "\n",
    "for a,c in zip(asignatura, calificacion):\n",
    "    \n",
    "    print(f\"Usted ha obtenido un {c} en {a}\")\n",
    "\n",
    "\n",
    "    \n"
   ]
  },
  {
   "cell_type": "code",
   "execution_count": null,
   "id": "57b40da7",
   "metadata": {},
   "outputs": [],
   "source": []
  },
  {
   "cell_type": "code",
   "execution_count": 2,
   "id": "b68d2275",
   "metadata": {
    "scrolled": true
   },
   "outputs": [
    {
     "name": "stdout",
     "output_type": "stream",
     "text": [
      "Ingrese la nota obtenida en la asignatura de Matemáticas: 6.5\n",
      "Ingrese la nota obtenida en la asignatura de Física: 4.8\n",
      "Ingrese la nota obtenida en la asignatura de Arte: 5.5\n",
      "Ingrese la nota obtenida en la asignatura de Música: 7\n",
      "Ingrese la nota obtenida en la asignatura de Lengua: 6.8\n",
      "Usted ha obtenido un 6.5 en Matemáticas\n",
      "Usted ha obtenido un 4.8 en Física\n",
      "Usted ha obtenido un 5.5 en Arte\n",
      "Usted ha obtenido un 7.0 en Música\n",
      "Usted ha obtenido un 6.8 en Lengua\n"
     ]
    }
   ],
   "source": []
  },
  {
   "cell_type": "code",
   "execution_count": 1,
   "id": "90cd9994",
   "metadata": {},
   "outputs": [
    {
     "name": "stdout",
     "output_type": "stream",
     "text": [
      "Ingrese la nota obtenida en la asignatura de Matemáticas: 7\n",
      "Ingrese la nota obtenida en la asignatura de Física: 6\n",
      "Ingrese la nota obtenida en la asignatura de Arte: 5.3\n",
      "Ingrese la nota obtenida en la asignatura de Música: 4.8\n",
      "Ingrese la nota obtenida en la asignatura de Lengua: 6.2\n",
      "Usted ha obtenido un 7.0 en Matemáticas\n",
      "Usted ha obtenido un 6.0 en Física\n",
      "Usted ha obtenido un 5.3 en Arte\n",
      "Usted ha obtenido un 4.8 en Música\n",
      "Usted ha obtenido un 6.2 en Lengua\n"
     ]
    }
   ],
   "source": []
  },
  {
   "cell_type": "code",
   "execution_count": 26,
   "id": "8db05d49",
   "metadata": {
    "scrolled": true
   },
   "outputs": [
    {
     "name": "stdout",
     "output_type": "stream",
     "text": [
      "Ingrese la nota obtenida en la asignatura de Matemáticas: 6.5\n",
      "Ingrese la nota obtenida en la asignatura de Física: 7\n",
      "Ingrese la nota obtenida en la asignatura de Arte: 4.8\n",
      "Ingrese la nota obtenida en la asignatura de Música: 3.9\n",
      "Ingrese la nota obtenida en la asignatura de Lengua: 5\n",
      "Usted ha obtenido un 6.5 en Matemáticas\n",
      "Usted ha obtenido un 7.0 en Física\n",
      "Usted ha obtenido un 4.8 en Arte\n",
      "Usted ha obtenido un 3.9 en Música\n",
      "Usted ha obtenido un 5.0 en Lengua\n"
     ]
    }
   ],
   "source": [
    "\n",
    "asignaturas_1 = float(input(\"Ingrese la nota obtenida en la asignatura de Matemáticas: \"))\n",
    "asignaturas_2 = float(input(\"Ingrese la nota obtenida en la asignatura de Física: \"))\n",
    "asignaturas_3 = float(input(\"Ingrese la nota obtenida en la asignatura de Arte: \"))\n",
    "asignaturas_4 = float(input(\"Ingrese la nota obtenida en la asignatura de Música: \"))\n",
    "asignaturas_5 = float(input(\"Ingrese la nota obtenida en la asignatura de Lengua: \"))\n",
    "\n",
    "asignatura = [\"Matemáticas\", \"Física\", \"Arte\", \"Música\", \"Lengua\"]\n",
    "calificacion = [asignaturas_1,asignaturas_2,asignaturas_3,asignaturas_4,asignaturas_5]\n",
    "\n",
    "\n",
    "for a,c in zip(asignatura, calificacion):\n",
    "    \n",
    "    print(f\"Usted ha obtenido un {c} en {a}\")\n",
    "\n"
   ]
  },
  {
   "cell_type": "code",
   "execution_count": 10,
   "id": "eb6d5eb6",
   "metadata": {},
   "outputs": [
    {
     "name": "stdout",
     "output_type": "stream",
     "text": [
      "hola, yolanda\n",
      "chao, yolanda:(\n",
      "hello, yolanda\n",
      "goodbye, yolanda:(\n",
      "こんにちは, yolanda\n",
      "じゃ、また, yolanda:(\n"
     ]
    }
   ],
   "source": [
    "lista_diccionarios = [{\"saludo\":\"hola\", \"despedida\": \"chao\"}, {\"saludo\": \"hello\", \"despedida\": \"goodbye\"},{\"saludo\": \"こんにちは\", \"despedida\": \"じゃ、また\"}]\n",
    "\n",
    "def saludar(nombre: str, diccionario: dict[str,str]) -> str:\n",
    "    saludo = diccionario.get(\"saludo\", \"ESTE VALOR ESTA POR DEFECTO JAJA\")\n",
    "    return f\"{saludo}, {nombre}\" \n",
    "\n",
    "def despedir(nombre: str, diccionario: dict[str,str]) -> str:\n",
    "    despedida = diccionario.get(\"despedida\", \"ESTE VALOR ESTA POR DEFECTO JAJA\")\n",
    "    return f\"{despedida}, {nombre}:(\"\n",
    "    \n",
    "saludar(\"Yolanda\", {\"saludo\":\"hola\", \"despedida\": \"chao\"})\n",
    "saludar(\"Yolanda\", {}) # no funciona porque pasé un diccionario vacío\n",
    "despedir(nombre= \"Yolanda\",diccionario ={\"saludo\": \"こんにちは\", \"despedida\": \"じゃ、また\"} )\n",
    "\n",
    "for diccionario in lista_diccionarios:\n",
    "    \n",
    "    print(saludar(\"yolanda\", diccionario))\n",
    "    print(despedir(\"yolanda\", diccionario))"
   ]
  },
  {
   "cell_type": "markdown",
   "id": "ad832476",
   "metadata": {},
   "source": [
    "##### "
   ]
  }
 ],
 "metadata": {
  "kernelspec": {
   "display_name": "Python 3 (ipykernel)",
   "language": "python",
   "name": "python3"
  },
  "language_info": {
   "codemirror_mode": {
    "name": "ipython",
    "version": 3
   },
   "file_extension": ".py",
   "mimetype": "text/x-python",
   "name": "python",
   "nbconvert_exporter": "python",
   "pygments_lexer": "ipython3",
   "version": "3.9.12"
  }
 },
 "nbformat": 4,
 "nbformat_minor": 5
}
