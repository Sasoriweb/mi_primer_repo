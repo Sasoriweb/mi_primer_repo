{
 "cells": [
  {
   "cell_type": "markdown",
   "id": "27f6758e",
   "metadata": {},
   "source": []
  },
  {
   "cell_type": "code",
   "execution_count": 3,
   "id": "7ca39d34",
   "metadata": {},
   "outputs": [
    {
     "name": "stdout",
     "output_type": "stream",
     "text": [
      "Introduzca un número: 8\n",
      "*\n",
      "**\n",
      "***\n",
      "****\n",
      "*****\n",
      "******\n",
      "*******\n",
      "********\n"
     ]
    }
   ],
   "source": [
    "# Solución 3\n",
    "numero = input(\"Introduzca un número: \")\n",
    "int_numero = int(numero)\n",
    "\n",
    "def asteriscos(num):\n",
    "    return \"*\" * num\n",
    "for num in range(1,int_numero+1):\n",
    "    print(asteriscos(num))"
   ]
  },
  {
   "cell_type": "raw",
   "id": "d49e28cc",
   "metadata": {},
   "source": [
    "#EJERCICIO ケーキくん\n",
    "\n",
    "numero = input(\"Introduzca un número: \")\n",
    "int_numero = int(numero)   \n",
    "ast = \"\"\n",
    "\n",
    "\n"
   ]
  },
  {
   "cell_type": "code",
   "execution_count": 1,
   "id": "8bd5b811",
   "metadata": {},
   "outputs": [
    {
     "name": "stdout",
     "output_type": "stream",
     "text": [
      "Introduzca un número: 7\n",
      "*\n",
      "**\n",
      "***\n",
      "****\n",
      "*****\n",
      "******\n",
      "*******\n"
     ]
    }
   ],
   "source": [
    "#solución 1\n",
    "numero = input(\"Introduzca un número: \")\n",
    "int_numero = int(numero) \n",
    "asteriscos = range(1,int_numero+1)\n",
    "\n",
    "for asterisco in asteriscos:\n",
    "    print(\"*\" * asterisco)"
   ]
  },
  {
   "cell_type": "code",
   "execution_count": 2,
   "id": "bc1525fe",
   "metadata": {},
   "outputs": [
    {
     "name": "stdout",
     "output_type": "stream",
     "text": [
      "Introduzca un número: 6\n",
      "*\n",
      "**\n",
      "***\n",
      "****\n",
      "*****\n",
      "******\n"
     ]
    }
   ],
   "source": [
    "#Solución 2\n",
    "numero = input(\"Introduzca un número: \")\n",
    "int_numero = int(numero)   \n",
    "ast = \"\"\n",
    "\n",
    "for num in range(1,int_numero+1):\n",
    "    ast = ast + \"*\"\n",
    "    print(ast)\n",
    "    "
   ]
  },
  {
   "cell_type": "code",
   "execution_count": 5,
   "id": "c74207ed",
   "metadata": {},
   "outputs": [
    {
     "name": "stdout",
     "output_type": "stream",
     "text": [
      "Escriba una frase: \n",
      "Escriba una letra : a\n",
      "Esta letra no aparece en la frase\n"
     ]
    }
   ],
   "source": [
    "frase = input(\"Escriba una frase: \")\n",
    "\n",
    "letra = input(\"Escriba una letra : \")\n",
    "veces_letra = frase.count(letra)\n",
    "\n",
    "if veces_letra == 1:\n",
    "    print(f\"Esta letra aparece 1 vez\")\n",
    "\n",
    "elif veces_letra > 1: \n",
    "    print(f\"Esta letra aparece {veces_letra} veces\")\n",
    "           \n",
    "else:\n",
    "    print(\"Esta letra no aparece en la frase\")\n",
    "    \n"
   ]
  },
  {
   "cell_type": "code",
   "execution_count": 10,
   "id": "662739bb",
   "metadata": {},
   "outputs": [
    {
     "name": "stdout",
     "output_type": "stream",
     "text": [
      "Escriba una frase: Mi mamá me mima\n",
      "Escriba una letra : M\n",
      "Esta letra no aparece en la frase\n"
     ]
    }
   ],
   "source": [
    "frase = input(\"Escriba una frase: \")\n",
    "\n",
    "letra = input(\"Escriba una letra : \")\n",
    "contador = 0\n",
    "\n",
    "for carac in frase:\n",
    "    if carac.lower() == letra:\n",
    "        contador = contador + 1\n",
    "        \n",
    "if contador == 1:\n",
    "    print(f\"Esta letra aparece 1 vez\")\n",
    "\n",
    "elif contador > 1: \n",
    "    print(f\"Esta letra aparece {contador} veces\")\n",
    "           \n",
    "else:\n",
    "    print(\"Esta letra no aparece en la frase\")\n",
    "    \n",
    "    "
   ]
  },
  {
   "cell_type": "code",
   "execution_count": null,
   "id": "0d8aee61",
   "metadata": {},
   "outputs": [],
   "source": []
  }
 ],
 "metadata": {
  "kernelspec": {
   "display_name": "Python 3 (ipykernel)",
   "language": "python",
   "name": "python3"
  },
  "language_info": {
   "codemirror_mode": {
    "name": "ipython",
    "version": 3
   },
   "file_extension": ".py",
   "mimetype": "text/x-python",
   "name": "python",
   "nbconvert_exporter": "python",
   "pygments_lexer": "ipython3",
   "version": "3.9.12"
  }
 },
 "nbformat": 4,
 "nbformat_minor": 5
}
