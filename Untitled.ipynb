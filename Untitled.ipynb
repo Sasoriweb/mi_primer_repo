{
 "cells": [
  {
   "cell_type": "markdown",
   "id": "27f6758e",
   "metadata": {},
   "source": []
  },
  {
   "cell_type": "code",
   "execution_count": 8,
   "id": "7ca39d34",
   "metadata": {},
   "outputs": [
    {
     "ename": "ValueError",
     "evalue": "invalid literal for int() with base 10: ''",
     "output_type": "error",
     "traceback": [
      "\u001b[1;31m---------------------------------------------------------------------------\u001b[0m",
      "\u001b[1;31mValueError\u001b[0m                                Traceback (most recent call last)",
      "Cell \u001b[1;32mIn[8], line 3\u001b[0m\n\u001b[0;32m      1\u001b[0m \u001b[39m# Solución 3\u001b[39;00m\n\u001b[0;32m      2\u001b[0m numero \u001b[39m=\u001b[39m \u001b[39minput\u001b[39m(\u001b[39m\"\u001b[39m\u001b[39mIntroduzca un número: \u001b[39m\u001b[39m\"\u001b[39m)\n\u001b[1;32m----> 3\u001b[0m int_numero \u001b[39m=\u001b[39m \u001b[39mint\u001b[39;49m(numero)\n\u001b[0;32m      5\u001b[0m \u001b[39mdef\u001b[39;00m \u001b[39masteriscos\u001b[39m(num):\n\u001b[0;32m      6\u001b[0m     \u001b[39mreturn\u001b[39;00m \u001b[39m\"\u001b[39m\u001b[39m*\u001b[39m\u001b[39m\"\u001b[39m \u001b[39m*\u001b[39m num\n",
      "\u001b[1;31mValueError\u001b[0m: invalid literal for int() with base 10: ''"
     ]
    }
   ],
   "source": [
    "# Solución 3\n",
    "numero = input(\"Introduzca un número: \")\n",
    "int_numero = int(numero)\n",
    "\n",
    "def asteriscos(num):\n",
    "    return \"*\" * num\n",
    "for num in range(1,int_numero+1):\n",
    "    print(asteriscos(num))"
   ]
  },
  {
   "cell_type": "raw",
   "id": "d49e28cc",
   "metadata": {},
   "source": [
    "#EJERCICIO ケーキくん\n",
    "\n",
    "numero = input(\"Introduzca un número: \")\n",
    "int_numero = int(numero)   \n",
    "ast = \"\"\n",
    "\n",
    "\n"
   ]
  },
  {
   "cell_type": "code",
   "execution_count": null,
   "id": "8bd5b811",
   "metadata": {},
   "outputs": [
    {
     "name": "stdout",
     "output_type": "stream",
     "text": [
      "*\n",
      "**\n",
      "***\n",
      "****\n",
      "*****\n",
      "******\n"
     ]
    }
   ],
   "source": [
    "#solución 1\n",
    "numero = input(\"Introduzca un número: \")\n",
    "int_numero = int(numero) \n",
    "asteriscos = range(1,int_numero+1)\n",
    "\n",
    "for asterisco in asteriscos:\n",
    "    print(\"*\" * asterisco)"
   ]
  },
  {
   "cell_type": "code",
   "execution_count": null,
   "id": "bc1525fe",
   "metadata": {},
   "outputs": [
    {
     "name": "stdout",
     "output_type": "stream",
     "text": [
      "*\n",
      "**\n",
      "***\n",
      "****\n",
      "*****\n"
     ]
    }
   ],
   "source": [
    "#Solución 2\n",
    "numero = input(\"Introduzca un número: \")\n",
    "int_numero = int(numero)   \n",
    "ast = \"\"\n",
    "\n",
    "for num in range(1,int_numero+1):\n",
    "    ast = ast + \"*\"\n",
    "    print(ast)\n",
    "    "
   ]
  },
  {
   "cell_type": "code",
   "execution_count": null,
   "id": "c74207ed",
   "metadata": {},
   "outputs": [
    {
     "name": "stdout",
     "output_type": "stream",
     "text": [
      "Esta letra no aparece en la frase\n"
     ]
    }
   ],
   "source": [
    "frase = input(\"Escriba una frase: \")\n",
    "\n",
    "letra = input(\"Escriba una letra : \")\n",
    "veces_letra = frase.count(letra)\n",
    "\n",
    "if veces_letra == 1:\n",
    "    print(f\"Esta letra aparece 1 vez\")\n",
    "\n",
    "elif veces_letra > 1: \n",
    "    print(f\"Esta letra aparece {veces_letra} veces\")\n",
    "           \n",
    "else:\n",
    "    print(\"Esta letra no aparece en la frase\")\n",
    "    \n"
   ]
  },
  {
   "cell_type": "code",
   "execution_count": null,
   "id": "662739bb",
   "metadata": {},
   "outputs": [
    {
     "name": "stdout",
     "output_type": "stream",
     "text": [
      "Esta letra no aparece en la frase\n"
     ]
    }
   ],
   "source": [
    "frase = input(\"Escriba una frase: \")\n",
    "\n",
    "letra = input(\"Escriba una letra : \")\n",
    "contador = 0\n",
    "\n",
    "for carac in frase:\n",
    "    if carac.lower() == letra:\n",
    "        contador = contador + 1\n",
    "        \n",
    "if contador == 1:\n",
    "    print(f\"Esta letra aparece 1 vez\")\n",
    "\n",
    "elif contador > 1: \n",
    "    print(f\"Esta letra aparece {contador} veces\")\n",
    "           \n",
    "else:\n",
    "    print(\"Esta letra no aparece en la frase\")\n",
    "    \n",
    "    "
   ]
  },
  {
   "cell_type": "code",
   "execution_count": null,
   "id": "0d8aee61",
   "metadata": {},
   "outputs": [
    {
     "name": "stdout",
     "output_type": "stream",
     "text": [
      "Usted ha obtenido un 6.0 en Matemáticas\n",
      "Usted ha obtenido un 7.0 en Física\n",
      "Usted ha obtenido un 4.0 en Arte\n",
      "Usted ha obtenido un 3.0 en Música\n",
      "Usted ha obtenido un 3.0 en Lengua\n"
     ]
    }
   ],
   "source": [
    "asignaturas_1 = float(input(\"Ingrese la nota obtenida en la asignatura de Matemáticas: \"))\n",
    "asignaturas_2 = float(input(\"Ingrese la nota obtenida en la asignatura de Física: \"))\n",
    "asignaturas_3 = float(input(\"Ingrese la nota obtenida en la asignatura de Arte: \"))\n",
    "asignaturas_4 = float(input(\"Ingrese la nota obtenida en la asignatura de Música: \"))\n",
    "asignaturas_5 = float(input(\"Ingrese la nota obtenida en la asignatura de Lengua: \"))\n",
    "\n",
    "asignatura = [\"Matemáticas\", \"Física\", \"Arte\", \"Música\", \"Lengua\"]\n",
    "calificacion = [asignaturas_1,asignaturas_2,asignaturas_3,asignaturas_4,asignaturas_5]\n",
    "\n",
    "\n",
    "for a,c in zip(asignatura, calificacion):\n",
    "    \n",
    "    print(f\"Usted ha obtenido un {c} en {a}\")\n",
    "\n"
   ]
  },
  {
   "cell_type": "code",
   "execution_count": null,
   "id": "d5a8fc99",
   "metadata": {},
   "outputs": [
    {
     "name": "stdout",
     "output_type": "stream",
     "text": [
      "Usted ha obtenido un 7.0 en Matemáticas\n",
      "Usted ha obtenido un 6.0 en Física\n",
      "Usted ha obtenido un 5.0 en Arte\n",
      "Usted ha obtenido un 4.0 en Música\n",
      "Usted ha obtenido un 3.0 en Lengua\n"
     ]
    }
   ],
   "source": [
    "asignaturas_1 = float(input(\"Ingrese la nota obtenida en la asignatura de Matemáticas: \"))\n",
    "asignaturas_2 = float(input(\"Ingrese la nota obtenida en la asignatura de Física: \"))\n",
    "asignaturas_3 = float(input(\"Ingrese la nota obtenida en la asignatura de Arte: \"))\n",
    "asignaturas_4 = float(input(\"Ingrese la nota obtenida en la asignatura de Música: \"))\n",
    "asignaturas_5 = float(input(\"Ingrese la nota obtenida en la asignatura de Lengua: \"))\n",
    "\n",
    "diccionario = {\"Matemáticas\": asignaturas_1,\n",
    "                      \"Física\": asignaturas_2,\n",
    "                      \"Arte\":asignaturas_3,\n",
    "                      \"Música\": asignaturas_4,\n",
    "                      \"Lengua\": asignaturas_5}   \n",
    "\n",
    "   \n",
    "for asign in diccionario:\n",
    "    \n",
    "    print(f\"Usted ha obtenido un {diccionario[asign]} en {asign}\") #por defecto el for toma las llaves del diccionario y yo las identifico como asign\n",
    "\n",
    "\n"
   ]
  },
  {
   "cell_type": "code",
   "execution_count": 11,
   "id": "065b488b",
   "metadata": {},
   "outputs": [
    {
     "name": "stdout",
     "output_type": "stream",
     "text": [
      "Usted ha obtenido un 7.0 en Matemáticas\n",
      "Usted ha obtenido un 6.0 en Física\n",
      "Usted ha obtenido un 5.0 en Arte\n",
      "Usted ha obtenido un 4.0 en Música\n",
      "Usted ha obtenido un 3.0 en Lengua\n"
     ]
    }
   ],
   "source": [
    "diccionario = {\"Matemáticas\": 0,\n",
    "                      \"Física\": 0,\n",
    "                      \"Arte\":0,\n",
    "                      \"Música\": 0,\n",
    "                      \"Lengua\": 0}   \n",
    "\n",
    "for llave in diccionario:\n",
    "    diccionario[llave] = float(input(f\"Ingrese la nota obtenida en la asignatura de {llave}: \"))\n",
    "\n",
    "\n",
    "   \n",
    "for llave in diccionario:\n",
    "    \n",
    "    print(f\"Usted ha obtenido un {diccionario[llave]} en {llave}\") #por defecto el for toma las llaves del diccionario y yo las identifico como llave\n",
    "# diccionario[\"Matemáticas\"] = 3\n",
    "\n",
    "# print(diccionario[\"Matemáticas\"])\n"
   ]
  }
 ],
 "metadata": {
  "kernelspec": {
   "display_name": "Python 3.10.7 64-bit",
   "language": "python",
   "name": "python3"
  },
  "language_info": {
   "codemirror_mode": {
    "name": "ipython",
    "version": 3
   },
   "file_extension": ".py",
   "mimetype": "text/x-python",
   "name": "python",
   "nbconvert_exporter": "python",
   "pygments_lexer": "ipython3",
   "version": "3.10.7"
  },
  "vscode": {
   "interpreter": {
    "hash": "369f2c481f4da34e4445cda3fffd2e751bd1c4d706f27375911949ba6bb62e1c"
   }
  }
 },
 "nbformat": 4,
 "nbformat_minor": 5
}
